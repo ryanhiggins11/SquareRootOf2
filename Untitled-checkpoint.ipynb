{
 "cells": [
  {
   "cell_type": "markdown",
   "metadata": {},
   "source": [
    "# TASKS - Square Root of 2"
   ]
  },
  {
   "cell_type": "markdown",
   "metadata": {},
   "source": [
    "These are my solutiuons to the task assessment. The author is Ian McLoughlin (ian.mcloughllin@gmit.ie)."
   ]
  },
  {
   "cell_type": "markdown",
   "metadata": {},
   "source": [
    "We can calculate the square root of a number using newtons method [1]\n",
    "\n",
    "To find the square root of $z$ of a number $x$, we can iterate using the following equation.\n",
    "\n",
    "$$ z = z - \\frac{z^2 - x}{2z} $$\n",
    "\n",
    "\n",
    "[1] A tour of GO. Excercise: Loops and functions; https://tour.golang.org/flowcontrol/8"
   ]
  },
  {
   "cell_type": "code",
   "execution_count": 1,
   "metadata": {},
   "outputs": [],
   "source": [
    "def sqrt2(x):\n",
    "    \"\"\" \n",
    "    Function to calculate the sqaure root of 2 to 100 decimal places\n",
    "    \"\"\"\n",
    "    #initial guess for square root of z\n",
    "    z = x / 2\n",
    "    #loop until happy with the accuracy\n",
    "    while abs(x -(z * z)) > 0.0001:\n",
    "        #calculate better guess for square root\n",
    "        z -= (z*z - x) / (2*z)\n",
    "    #Return the approximate square root of 2\n",
    "    return print(\"%.100f\" % z)\n",
    "#anwser = sqrt2(2)\n",
    "#print(\"%100f\" % result)"
   ]
  },
  {
   "cell_type": "markdown",
   "metadata": {},
   "source": [
    "#### Tests of the functions/\n",
    "\n",
    "Here we test the function with some known values"
   ]
  },
  {
   "cell_type": "code",
   "execution_count": 2,
   "metadata": {},
   "outputs": [
    {
     "name": "stdout",
     "output_type": "stream",
     "text": [
      "1.4142156862745098866440685014822520315647125244140625000000000000000000000000000000000000000000000000\n"
     ]
    }
   ],
   "source": [
    "#Tests\n",
    "sqrt2(2)"
   ]
  },
  {
   "cell_type": "code",
   "execution_count": 4,
   "metadata": {},
   "outputs": [
    {
     "name": "stdout",
     "output_type": "stream",
     "text": [
      "3.1622776604441362735542497830465435981750488281250000000000000000000000000000000000000000000000000000\n"
     ]
    }
   ],
   "source": [
    "#Tests\n",
    "sqrt2(10)"
   ]
  },
  {
   "cell_type": "code",
   "execution_count": 5,
   "metadata": {},
   "outputs": [
    {
     "name": "stdout",
     "output_type": "stream",
     "text": [
      "10.0000000001074464961448029498569667339324951171875000000000000000000000000000000000000000000000000000\n"
     ]
    }
   ],
   "source": [
    "#Tests\n",
    "sqrt2(100)"
   ]
  },
  {
   "cell_type": "markdown",
   "metadata": {},
   "source": [
    "### Get the Square Root Of 2 to 100 places"
   ]
  },
  {
   "cell_type": "code",
   "execution_count": 6,
   "metadata": {},
   "outputs": [],
   "source": [
    "# Function to calculate the sqaure root of 2 to 100 decimal places\n",
    "def sqrt2(n):\n",
    "    #n is being used as the initial approximation\n",
    "    x = int(n)\n",
    "    y = int(1)\n",
    "\n",
    "    #e decides accuracy level\n",
    "    e = 0.100\n",
    "    while (x - y > e):\n",
    "        x = (x + y) // 2\n",
    "        y = n // x\n",
    "        \n",
    "        return int(x)\n",
    "    #Tests above Function\n",
    "    n = 2 * 10 ** 200\n",
    "    #Test\n",
    "    print(f'{squareRoot(n) // 10*100}.{squareRoot(n) % 10**100:100d}')\n",
    "    return print(\"%.100f\" % n)\n",
    "    \n",
    "    "
   ]
  },
  {
   "cell_type": "code",
   "execution_count": 10,
   "metadata": {},
   "outputs": [
    {
     "data": {
      "text/plain": [
       "1"
      ]
     },
     "execution_count": 10,
     "metadata": {},
     "output_type": "execute_result"
    }
   ],
   "source": [
    "sqrt2(2)"
   ]
  },
  {
   "cell_type": "code",
   "execution_count": null,
   "metadata": {},
   "outputs": [],
   "source": []
  }
 ],
 "metadata": {
  "kernelspec": {
   "display_name": "Python 3",
   "language": "python",
   "name": "python3"
  },
  "language_info": {
   "codemirror_mode": {
    "name": "ipython",
    "version": 3
   },
   "file_extension": ".py",
   "mimetype": "text/x-python",
   "name": "python",
   "nbconvert_exporter": "python",
   "pygments_lexer": "ipython3",
   "version": "3.8.3"
  }
 },
 "nbformat": 4,
 "nbformat_minor": 4
}
