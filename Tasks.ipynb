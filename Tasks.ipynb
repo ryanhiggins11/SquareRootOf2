{
 "cells": [
  {
   "cell_type": "markdown",
   "metadata": {},
   "source": [
    "# Tasks\n",
    "***"
   ]
  },
  {
   "cell_type": "markdown",
   "metadata": {},
   "source": [
    "These are my solutions to the Tasks assesment to be completed as part of my Emerging Technologies module. Author Keith Nolan.\n",
    "Email: (g00351932@gmit.ie)\n",
    "\n",
    "***"
   ]
  },
  {
   "cell_type": "markdown",
   "metadata": {},
   "source": [
    "# Task 1\n"
   ]
  },
  {
   "cell_type": "markdown",
   "metadata": {},
   "source": [
    "The first of these tasks is to write a Python function called sqrt2.\n",
    "Thich calculates and prints to the screen the square root of 2 to 100 decimal places.\n",
    "Below is my solution.\n"
   ]
  },
  {
   "cell_type": "markdown",
   "metadata": {},
   "source": [
    "***"
   ]
  },
  {
   "cell_type": "markdown",
   "metadata": {},
   "source": [
    "### Task: Calculate a sqaure root\n",
    "***\n",
    "\n",
    "The sqaure root of a number can be calculated using Newton's Method. [1]\n",
    "\n",
    "To find the sqaure root $z$ of a number $x$, we can iterate using the following equation.\n",
    "\n",
    "$$ z' = z - \\frac{z^2 - x}{2z} $$\n",
    "\n",
    "[1] A tour of go. Exercise: Loops and Functions https://tour.golang.com/flowcontrol/8"
   ]
  },
  {
   "cell_type": "code",
   "execution_count": 47,
   "metadata": {},
   "outputs": [],
   "source": [
    "def sqrt2(x):\n",
    "    \"\"\" \n",
    "    function to calculate the sqaure root of 2 to 100 decimal places\n",
    "    \"\"\"\n",
    "    #initial guess for the square root of z\n",
    "    z = x / 2\n",
    "    #loop until we're happy with the accuracy\n",
    "    while abs(x -(z * z)) > 0.0001:\n",
    "        #calculate a better guess for the square root\n",
    "        z -= (z*z - x) / (2*z)\n",
    "    #Return the approximate square root of 2\n",
    "    \n",
    "    return print(\"%.100f\" % z)\n",
    "#anwser = sqrt2(2)\n",
    "#print(\"%100f\" % result)"
   ]
  },
  {
   "cell_type": "code",
   "execution_count": 48,
   "metadata": {},
   "outputs": [
    {
     "name": "stdout",
     "output_type": "stream",
     "text": [
      "1.4142156862745098866440685014822520315647125244140625000000000000000000000000000000000000000000000000\n"
     ]
    }
   ],
   "source": [
    "sqrt2(2)"
   ]
  },
  {
   "cell_type": "code",
   "execution_count": 49,
   "metadata": {},
   "outputs": [
    {
     "name": "stdout",
     "output_type": "stream",
     "text": [
      "1.4142156862745098866440685014822520315647125244140625000000000000000000000000000000000000000000000000\n"
     ]
    }
   ],
   "source": [
    "sqrt2(2)"
   ]
  },
  {
   "cell_type": "code",
   "execution_count": 50,
   "metadata": {},
   "outputs": [
    {
     "name": "stdout",
     "output_type": "stream",
     "text": [
      "1.4142156862745098866440685014822520315647125244140625000000000000000000000000000000000000000000000000\n"
     ]
    }
   ],
   "source": [
    "sqrt2(2)"
   ]
  },
  {
   "cell_type": "code",
   "execution_count": null,
   "metadata": {},
   "outputs": [],
   "source": []
  }
 ],
 "metadata": {
  "kernelspec": {
   "display_name": "Python 3",
   "language": "python",
   "name": "python3"
  },
  "language_info": {
   "codemirror_mode": {
    "name": "ipython",
    "version": 3
   },
   "file_extension": ".py",
   "mimetype": "text/x-python",
   "name": "python",
   "nbconvert_exporter": "python",
   "pygments_lexer": "ipython3",
   "version": "3.8.3"
  }
 },
 "nbformat": 4,
 "nbformat_minor": 4
}
